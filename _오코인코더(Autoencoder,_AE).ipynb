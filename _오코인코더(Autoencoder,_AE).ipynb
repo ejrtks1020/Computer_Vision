{
  "nbformat": 4,
  "nbformat_minor": 0,
  "metadata": {
    "colab": {
      "name": "_오코인코더(Autoencoder, AE).ipynb",
      "provenance": [],
      "collapsed_sections": [
        "3PQOAuRhLPEW",
        "_CR9eQ__Ms-z"
      ],
      "machine_shape": "hm",
      "include_colab_link": true
    },
    "kernelspec": {
      "name": "python3",
      "display_name": "Python 3"
    },
    "accelerator": "GPU"
  },
  "cells": [
    {
      "cell_type": "markdown",
      "metadata": {
        "id": "view-in-github",
        "colab_type": "text"
      },
      "source": [
        "<a href=\"https://colab.research.google.com/github/ejrtks1020/Computer_Vision/blob/main/_%EC%98%A4%EC%BD%94%EC%9D%B8%EC%BD%94%EB%8D%94(Autoencoder%2C_AE).ipynb\" target=\"_parent\"><img src=\"https://colab.research.google.com/assets/colab-badge.svg\" alt=\"Open In Colab\"/></a>"
      ]
    },
    {
      "cell_type": "markdown",
      "metadata": {
        "id": "lIvhXnvJN6XG"
      },
      "source": [
        "# 인코딩(encoding)과 디코딩(decoding)\n",
        "\n",
        "- 인코딩-디코딩 아키텍쳐는 통신, 암호, 전자 등 다양한 분야에 적용되는 일반적인 프레임워크\n",
        "\n",
        "- 인코더는 입력 샘플을 잠재 공간, 즉 인코더에 의해 정의된 숨겨진 구조화된 값 집합에 매핑하는 함수\n",
        "\n",
        "- 디코더는 이 잠재 공간의 요소를 사전 정의된 타겟 도메인으로 매핑하는 여함수\n",
        "\n",
        "- 예를 들어, 이미지와 오디오 압축 포맷\n",
        "\n",
        "  - JPEG 도구는 미디어 파일을 가벼운 이진파일로 압축하여 인코딩하고, 표시할 떄 픽셀 값을 복원하기 위해 디코딩\n",
        "\n",
        "  <img src=\"https://image.slidesharecdn.com/aes171113-180510014736/95/-48-638.jpg?cb=1525916931\">\n",
        "\n",
        "  <sub>[이미지 출처] https://www.slideshare.net/NaverEngineering/ss-96581209</sub>"
      ]
    },
    {
      "cell_type": "markdown",
      "metadata": {
        "id": "rwOvyt4WC84Z"
      },
      "source": [
        "# 오토인코더(Autoencoder, AE)\n",
        "\n",
        "- 입력을 저차원 잠재공간으로 인코딩한 후 디코딩하여 복원하는 네트워크  \n",
        "  즉, 이미지를 입력받아 인코더 모듈을 사용하여 잠재 벡터 공간으로 매핑하고,  \n",
        "  디코더 모듈을 사용하여 원본 이미지와 동일한 차원으로 복원하여 출력\n",
        "\n",
        "- 원본 입력을 재구성하는 방법으로 학습\n",
        "\n",
        "- 고전적인 방식은 구조화가 잘된 잠재 공간을 만들지 못하고,  \n",
        "  압축도 뛰어나지 않음\n",
        "\n",
        "  <img src=\"https://miro.medium.com/max/1200/1*nqzWupxC60iAH2dYrFT78Q.png\">\n",
        "\n",
        "  <sub>[이미지 출처] https://medium.com/@birla.deepak26/autoencoders-76bb49ae6a8f</sub>"
      ]
    },
    {
      "cell_type": "markdown",
      "metadata": {
        "id": "pBYkcHQYH8rA"
      },
      "source": [
        "## Fashon MNIST Dataset\n",
        "\n",
        "- 코드 참조 : https://www.tensorflow.org/tutorials/generative/autoencoder?hl=ko"
      ]
    },
    {
      "cell_type": "code",
      "metadata": {
        "id": "W_lTtOABILk0"
      },
      "source": [
        "import tensorflow as tf\n",
        "from tensorflow.keras.datasets import fashion_mnist\n",
        "from tensorflow.keras.models import Model\n",
        "from tensorflow.keras.layers import Dense, Flatten, Reshape\n",
        "from tensorflow.keras.losses import MeanSquaredError\n",
        "import numpy as np\n",
        "import matplotlib.pyplot as plt\n",
        "\n",
        "plt.style.use('seaborn-white')"
      ],
      "execution_count": null,
      "outputs": []
    },
    {
      "cell_type": "markdown",
      "metadata": {
        "id": "LeqN5A51IHmo"
      },
      "source": [
        "### 데이터 로드"
      ]
    },
    {
      "cell_type": "code",
      "metadata": {
        "id": "AfGIbtt3H7Lk",
        "colab": {
          "base_uri": "https://localhost:8080/"
        },
        "outputId": "dad2bb6a-6fb3-4a28-f064-8b7718297ccc"
      },
      "source": [
        "(x_train , _), (x_test, _) = fashion_mnist.load_data()"
      ],
      "execution_count": null,
      "outputs": [
        {
          "output_type": "stream",
          "name": "stdout",
          "text": [
            "Downloading data from https://storage.googleapis.com/tensorflow/tf-keras-datasets/train-labels-idx1-ubyte.gz\n",
            "32768/29515 [=================================] - 0s 0us/step\n",
            "40960/29515 [=========================================] - 0s 0us/step\n",
            "Downloading data from https://storage.googleapis.com/tensorflow/tf-keras-datasets/train-images-idx3-ubyte.gz\n",
            "26427392/26421880 [==============================] - 1s 0us/step\n",
            "26435584/26421880 [==============================] - 1s 0us/step\n",
            "Downloading data from https://storage.googleapis.com/tensorflow/tf-keras-datasets/t10k-labels-idx1-ubyte.gz\n",
            "16384/5148 [===============================================================================================] - 0s 0us/step\n",
            "Downloading data from https://storage.googleapis.com/tensorflow/tf-keras-datasets/t10k-images-idx3-ubyte.gz\n",
            "4423680/4422102 [==============================] - 0s 0us/step\n",
            "4431872/4422102 [==============================] - 0s 0us/step\n"
          ]
        }
      ]
    },
    {
      "cell_type": "code",
      "metadata": {
        "id": "0M1T3BBcH7QQ"
      },
      "source": [
        "x_train = x_train.astype('float32') / 255.\n",
        "x_test = x_test.astype('float32') / 255."
      ],
      "execution_count": null,
      "outputs": []
    },
    {
      "cell_type": "code",
      "metadata": {
        "colab": {
          "base_uri": "https://localhost:8080/"
        },
        "id": "prhBm_9reaT4",
        "outputId": "c38e5a7d-1178-4319-a402-3a55a02f542d"
      },
      "source": [
        "print(x_train.shape)\n",
        "print(x_test.shape)"
      ],
      "execution_count": null,
      "outputs": [
        {
          "output_type": "stream",
          "name": "stdout",
          "text": [
            "(60000, 28, 28)\n",
            "(10000, 28, 28)\n"
          ]
        }
      ]
    },
    {
      "cell_type": "markdown",
      "metadata": {
        "id": "ILnkElscIctE"
      },
      "source": [
        "### 모델 정의\n",
        "\n",
        "- 이미지를 64 차원 잠재 벡터로 압축하는 encoder 및 잠재 공간에서 원본 이미지를 재구성하는 decoder 라는 두 개의 Dense 레이어로 오토 encoder 정의\n",
        "\n",
        "- Keras Model Subclassing API를 사용"
      ]
    },
    {
      "cell_type": "code",
      "metadata": {
        "id": "DbEA2fM8H7Vu"
      },
      "source": [
        "latent_dim = 64\n",
        "\n",
        "class Autoencoder(Model):\n",
        "  def __init__(self, latent_dim):\n",
        "    super(Autoencoder, self).__init__()\n",
        "\n",
        "    self.latent_dim = latent_dim\n",
        "\n",
        "    self.encoder = tf.keras.Sequential([Flatten(), Dense(latent_dim, activation = 'relu')])\n",
        "\n",
        "    self.decoder = tf.keras.Sequential([Dense(784, activation ='sigmoid'), Reshape((28, 28))])\n",
        "  \n",
        "  def call(self, x):\n",
        "    encoded = self.encoder(x)\n",
        "    decoded = self.decoder(encoded)\n",
        "    return decoded"
      ],
      "execution_count": null,
      "outputs": []
    },
    {
      "cell_type": "markdown",
      "metadata": {
        "id": "1xdzD61WI8Yh"
      },
      "source": [
        "### 모델 생성 및 컴파일"
      ]
    },
    {
      "cell_type": "code",
      "metadata": {
        "id": "-NtceXVnH7Iu"
      },
      "source": [
        "autoencoder = Autoencoder(latent_dim)\n",
        "autoencoder.compile(optimizer = 'adam', loss =MeanSquaredError() )"
      ],
      "execution_count": null,
      "outputs": []
    },
    {
      "cell_type": "markdown",
      "metadata": {
        "id": "B8vKj0ysJAfv"
      },
      "source": [
        "### 모델 학습\n",
        "- x_train 을 입력과 목표 모두로 사용하여 모델을 훈련\n",
        "\n",
        "- encoder 는 데이터 세트를 784 차원에서 잠재 공간으로 압축하는 방법을 배우고,  \n",
        "  decoder 는 원본 이미지를 재구성하는 방법을 배움"
      ]
    },
    {
      "cell_type": "code",
      "metadata": {
        "id": "uunbZ_uwH7GZ",
        "colab": {
          "base_uri": "https://localhost:8080/"
        },
        "outputId": "b5289d2b-9e17-4119-9eaa-0d2d931ad416"
      },
      "source": [
        "autoencoder.fit(x_train, x_train,\n",
        "                epochs =10,\n",
        "                shuffle = True,\n",
        "                validation_data = (x_test, x_test))"
      ],
      "execution_count": null,
      "outputs": [
        {
          "output_type": "stream",
          "name": "stdout",
          "text": [
            "Epoch 1/10\n",
            "1875/1875 [==============================] - 7s 2ms/step - loss: 0.0239 - val_loss: 0.0131\n",
            "Epoch 2/10\n",
            "1875/1875 [==============================] - 4s 2ms/step - loss: 0.0116 - val_loss: 0.0108\n",
            "Epoch 3/10\n",
            "1875/1875 [==============================] - 4s 2ms/step - loss: 0.0100 - val_loss: 0.0097\n",
            "Epoch 4/10\n",
            "1875/1875 [==============================] - 4s 2ms/step - loss: 0.0094 - val_loss: 0.0093\n",
            "Epoch 5/10\n",
            "1875/1875 [==============================] - 4s 2ms/step - loss: 0.0091 - val_loss: 0.0091\n",
            "Epoch 6/10\n",
            "1875/1875 [==============================] - 4s 2ms/step - loss: 0.0090 - val_loss: 0.0090\n",
            "Epoch 7/10\n",
            "1875/1875 [==============================] - 4s 2ms/step - loss: 0.0089 - val_loss: 0.0090\n",
            "Epoch 8/10\n",
            "1875/1875 [==============================] - 4s 2ms/step - loss: 0.0088 - val_loss: 0.0089\n",
            "Epoch 9/10\n",
            "1875/1875 [==============================] - 4s 2ms/step - loss: 0.0088 - val_loss: 0.0092\n",
            "Epoch 10/10\n",
            "1875/1875 [==============================] - 4s 2ms/step - loss: 0.0087 - val_loss: 0.0089\n"
          ]
        },
        {
          "output_type": "execute_result",
          "data": {
            "text/plain": [
              "<keras.callbacks.History at 0x7efc106d7690>"
            ]
          },
          "metadata": {},
          "execution_count": 13
        }
      ]
    },
    {
      "cell_type": "markdown",
      "metadata": {
        "id": "zA7JfP8FJKlT"
      },
      "source": [
        "### 모델 테스트"
      ]
    },
    {
      "cell_type": "code",
      "metadata": {
        "id": "uILZGymOJIBI"
      },
      "source": [
        "encoded_imgs = autoencoder.encoder(x_test).numpy()\n",
        "decoded_imgs = autoencoder.decoder(encoded_imgs).numpy()"
      ],
      "execution_count": null,
      "outputs": []
    },
    {
      "cell_type": "code",
      "metadata": {
        "id": "M1Y5KC3uJIM5",
        "colab": {
          "base_uri": "https://localhost:8080/",
          "height": 189
        },
        "outputId": "7171beb0-0717-422a-dffb-b7e1588918de"
      },
      "source": [
        "n = 10\n",
        "plt.figure(figsize = (20, 4))\n",
        "\n",
        "for i in range(n):\n",
        "  ax = plt.subplot(2, n, i+1)\n",
        "  plt.imshow(x_test[i])\n",
        "  plt.title('original')\n",
        "  plt.gray()\n",
        "  ax.get_xaxis().set_visible(False)\n",
        "  ax.get_yaxis().set_visible(False)\n",
        "\n",
        "  ax = plt.subplot(2, n, i+1+n)\n",
        "  plt.imshow(decoded_imgs[i])\n",
        "  plt.title('reconstructed')\n",
        "  plt.gray()\n",
        "  ax.get_xaxis().set_visible(False)\n",
        "  ax.get_yaxis().set_visible(False)\n",
        "\n",
        "plt.show()"
      ],
      "execution_count": null,
      "outputs": [
        {
          "output_type": "display_data",
          "data": {
            "image/png": "[encoded data removed]",
            "text/plain": [
              "<Figure size 1440x288 with 20 Axes>"
            ]
          },
          "metadata": {}
        }
      ]
    },
    {
      "cell_type": "code",
      "metadata": {
        "id": "cHIrNCzriNu_"
      },
      "source": [
        ""
      ],
      "execution_count": null,
      "outputs": []
    }
  ]
}